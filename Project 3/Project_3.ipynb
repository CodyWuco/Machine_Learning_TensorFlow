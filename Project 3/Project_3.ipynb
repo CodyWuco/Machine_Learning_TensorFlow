{
 "cells": [
  {
   "cell_type": "markdown",
   "metadata": {
    "id": "C-BeOChlfOfY"
   },
   "source": [
    "## Mini-Project 3:  Computer Vision using GPU and Transfer Learning\n",
    "\n",
    "\n",
    "#### CSC 180 Intelligent Systems (Fall 2021)\n",
    "\n",
    "#### Dr. Haiquan Chen, California State University, Sacramento"
   ]
  },
  {
   "cell_type": "code",
   "execution_count": null,
   "metadata": {
    "id": "rENMVFFibA3H"
   },
   "outputs": [],
   "source": [
    "# Insert your name, your id, course title, assignment id, and due date here as comment \n",
    "# Kai Kit Lok, 301108938 \n",
    "# Kevin Estrada, 216179224\n",
    "# Cody Wuco, 301090621\n",
    "#CSC 180 Intelligent Systems\n",
    "#Project 3\n",
    "#Due Date: October 28, 2021\n",
    "\n",
    "\n",
    "\n",
    "\n",
    "\n",
    "\n",
    "\n",
    "\n",
    "\n",
    "\n",
    "\n",
    "\n",
    "\n",
    "\n",
    "\n"
   ]
  },
  {
   "cell_type": "markdown",
   "metadata": {
    "id": "LlFpkRqpfOfa"
   },
   "source": [
    "\n",
    "## Helpful Functions for Tensorflow (Little Gems)\n",
    "\n",
    "The following functions will be used with TensorFlow to help preprocess the data.  They allow you to build the feature vector for a neural network. \n",
    "\n",
    "* Predictors/Inputs \n",
    "    * Fill any missing inputs with the median for that column.  Use **missing_median**.\n",
    "    * Encode textual/categorical values with **encode_text_dummy**.\n",
    "    * Encode numeric values with **encode_numeric_zscore**.\n",
    "* Output\n",
    "    * Discard rows with missing outputs.\n",
    "    * Encode textual/categorical values with **encode_text_index**.\n",
    "    * Do not encode output numeric values.\n",
    "* Produce final feature vectors (x) and expected output (y) with **to_xy**."
   ]
  },
  {
   "cell_type": "code",
   "execution_count": null,
   "metadata": {
    "id": "FOddo2bbfOfb"
   },
   "outputs": [],
   "source": [
    "from collections.abc import Sequence\n",
    "from sklearn import preprocessing\n",
    "import matplotlib.pyplot as plt\n",
    "import numpy as np\n",
    "import pandas as pd\n",
    "import shutil\n",
    "import os\n",
    "\n",
    "\n",
    "# Encode text values to dummy variables(i.e. [1,0,0],[0,1,0],[0,0,1] for red,green,blue)\n",
    "def encode_text_dummy(df, name):\n",
    "    dummies = pd.get_dummies(df[name])\n",
    "    for x in dummies.columns:\n",
    "        dummy_name = \"{}-{}\".format(name, x)\n",
    "        df[dummy_name] = dummies[x]\n",
    "    df.drop(name, axis=1, inplace=True)\n",
    "\n",
    "\n",
    "# Encode text values to indexes(i.e. [1],[2],[3] for red,green,blue).\n",
    "def encode_text_index(df, name):\n",
    "    le = preprocessing.LabelEncoder()\n",
    "    df[name] = le.fit_transform(df[name])\n",
    "    return le.classes_\n",
    "\n",
    "\n",
    "# Encode a numeric column as zscores\n",
    "def encode_numeric_zscore(df, name, mean=None, sd=None):\n",
    "    if mean is None:\n",
    "        mean = df[name].mean()\n",
    "\n",
    "    if sd is None:\n",
    "        sd = df[name].std()\n",
    "\n",
    "    df[name] = (df[name] - mean) / sd\n",
    "\n",
    "\n",
    "# Convert all missing values in the specified column to the median\n",
    "def missing_median(df, name):\n",
    "    med = df[name].median()\n",
    "    df[name] = df[name].fillna(med)\n",
    "\n",
    "\n",
    "# Convert all missing values in the specified column to the default\n",
    "def missing_default(df, name, default_value):\n",
    "    df[name] = df[name].fillna(default_value)\n",
    "\n",
    "\n",
    "# Convert a Pandas dataframe to the x,y inputs that TensorFlow needs\n",
    "def to_xy(df, target):\n",
    "    result = []\n",
    "    for x in df.columns:\n",
    "        if x != target:\n",
    "            result.append(x)\n",
    "    # find out the type of the target column. \n",
    "    target_type = df[target].dtypes\n",
    "    target_type = target_type[0] if isinstance(target_type, Sequence) else target_type\n",
    "    # Encode to int for classification, float otherwise. TensorFlow likes 32 bits.\n",
    "    if target_type in (np.int64, np.int32):\n",
    "        # Classification\n",
    "        dummies = pd.get_dummies(df[target])\n",
    "        return df[result].values.astype(np.float32), dummies.values.astype(np.float32)\n",
    "    else:\n",
    "        # Regression\n",
    "        return df[result].values.astype(np.float32), df[target].values.astype(np.float32)\n",
    "\n",
    "# Nicely formatted time string\n",
    "def hms_string(sec_elapsed):\n",
    "    h = int(sec_elapsed / (60 * 60))\n",
    "    m = int((sec_elapsed % (60 * 60)) / 60)\n",
    "    s = sec_elapsed % 60\n",
    "    return \"{}:{:>02}:{:>05.2f}\".format(h, m, s)\n",
    "\n",
    "\n",
    "# Regression chart.\n",
    "def chart_regression(pred,y,sort=True):\n",
    "    t = pd.DataFrame({'pred' : pred, 'y' : y.flatten()})\n",
    "    if sort:\n",
    "        t.sort_values(by=['y'],inplace=True)\n",
    "    a = plt.plot(t['y'].tolist(),label='expected')\n",
    "    b = plt.plot(t['pred'].tolist(),label='prediction')\n",
    "    plt.ylabel('output')\n",
    "    plt.legend()\n",
    "    plt.show()\n",
    "\n",
    "# Remove all rows where the specified column is +/- sd standard deviations\n",
    "def remove_outliers(df, name, sd):\n",
    "    drop_rows = df.index[(np.abs(df[name] - df[name].mean()) >= (sd * df[name].std()))]\n",
    "    df.drop(drop_rows, axis=0, inplace=True)\n",
    "\n",
    "\n",
    "# Encode a column to a range between normalized_low and normalized_high.\n",
    "def encode_numeric_range(df, name, normalized_low=-1, normalized_high=1,\n",
    "                         data_low=None, data_high=None):\n",
    "    if data_low is None:\n",
    "        data_low = min(df[name])\n",
    "        data_high = max(df[name])\n",
    "\n",
    "    df[name] = ((df[name] - data_low) / (data_high - data_low)) \\\n",
    "               * (normalized_high - normalized_low) + normalized_low\n"
   ]
  },
  {
   "cell_type": "markdown",
   "metadata": {
    "id": "qU8FIYWRVXM1"
   },
   "source": [
    "## Switch and Verify GPU\n",
    "\n",
    "### To enable GPU backend for your notebook. Runtime->Change runtime type->Hardware Accelerator->GPU."
   ]
  },
  {
   "cell_type": "code",
   "execution_count": null,
   "metadata": {
    "colab": {
     "base_uri": "https://localhost:8080/",
     "height": 35
    },
    "id": "1s9pBa09U_zJ",
    "outputId": "6375d85e-8393-48d8-985a-0755973cb110"
   },
   "outputs": [
    {
     "data": {
      "application/vnd.google.colaboratory.intrinsic+json": {
       "type": "string"
      },
      "text/plain": [
       "'/device:GPU:0'"
      ]
     },
     "execution_count": 1,
     "metadata": {},
     "output_type": "execute_result"
    }
   ],
   "source": [
    "import tensorflow as tf\n",
    "\n",
    "tf.test.gpu_device_name()"
   ]
  },
  {
   "cell_type": "markdown",
   "metadata": {
    "id": "SFpkSEEDbTag"
   },
   "source": [
    "### If the above code output '/device:GPU:0',  you have switched to GPU successfully and you are ready to go. \n",
    "\n"
   ]
  },
  {
   "cell_type": "markdown",
   "metadata": {
    "collapsed": true,
    "id": "Kv39g9StfOff"
   },
   "source": [
    "## Part I:   Image classification without transfer learning\n",
    "\n",
    "https://www.cs.toronto.edu/~kriz/cifar.html"
   ]
  },
  {
   "cell_type": "code",
   "execution_count": null,
   "metadata": {
    "colab": {
     "base_uri": "https://localhost:8080/"
    },
    "id": "0495-SoMfOfg",
    "outputId": "0eed38ae-dc9e-4d95-925f-6ae111a3dd81"
   },
   "outputs": [
    {
     "name": "stdout",
     "output_type": "stream",
     "text": [
      "Downloading data from https://www.cs.toronto.edu/~kriz/cifar-10-python.tar.gz\n",
      "170500096/170498071 [==============================] - 11s 0us/step\n",
      "170508288/170498071 [==============================] - 11s 0us/step\n"
     ]
    }
   ],
   "source": [
    "#  Load cifar-10 data and split it to training and test\n",
    "\n",
    "\n",
    "from tensorflow.keras.datasets import cifar10\n",
    "\n",
    "from tensorflow.keras.models import Sequential\n",
    "from tensorflow.keras.layers import Dense, Dropout, Activation, Flatten\n",
    "from tensorflow.keras.layers import Conv2D, MaxPooling2D\n",
    "\n",
    "num_classes = 10\n",
    "\n",
    "# The data split between train and test sets:\n",
    "(x_train, y_train), (x_test, y_test) = cifar10.load_data()\n"
   ]
  },
  {
   "cell_type": "code",
   "execution_count": null,
   "metadata": {
    "colab": {
     "base_uri": "https://localhost:8080/"
    },
    "id": "9DWyVv_efOfj",
    "outputId": "a9d08794-8e10-4c5f-8cc3-c88560ee9383"
   },
   "outputs": [
    {
     "name": "stdout",
     "output_type": "stream",
     "text": [
      "x_train shape: (50000, 32, 32, 3)\n",
      "y_train shape: (50000, 1)\n",
      "x_test shape: (10000, 32, 32, 3)\n",
      "y_test shape: (10000, 1)\n",
      "50000 train samples\n",
      "10000 test samples\n"
     ]
    }
   ],
   "source": [
    "# print out data shape\n",
    "\n",
    "print('x_train shape:', x_train.shape)\n",
    "print('y_train shape:', y_train.shape)\n",
    "\n",
    "print('x_test shape:', x_test.shape)\n",
    "print('y_test shape:', y_test.shape)\n",
    "\n",
    "\n",
    "print(x_train.shape[0], 'train samples')\n",
    "print(x_test.shape[0], 'test samples')"
   ]
  },
  {
   "cell_type": "code",
   "execution_count": null,
   "metadata": {
    "colab": {
     "base_uri": "https://localhost:8080/"
    },
    "id": "5_Z_IKevu2Ji",
    "outputId": "df3d9cac-08fc-45bf-fc12-a2c1f09cc7f8"
   },
   "outputs": [
    {
     "data": {
      "text/plain": [
       "array([[[100, 168, 231],\n",
       "        [100, 168, 229],\n",
       "        [101, 167, 230],\n",
       "        ...,\n",
       "        [ 95, 165, 231],\n",
       "        [ 94, 165, 228],\n",
       "        [ 95, 167, 229]],\n",
       "\n",
       "       [[103, 170, 230],\n",
       "        [103, 168, 228],\n",
       "        [104, 168, 226],\n",
       "        ...,\n",
       "        [ 97, 167, 229],\n",
       "        [ 97, 166, 227],\n",
       "        [ 97, 168, 229]],\n",
       "\n",
       "       [[107, 174, 233],\n",
       "        [106, 172, 230],\n",
       "        [106, 173, 229],\n",
       "        ...,\n",
       "        [100, 170, 230],\n",
       "        [100, 170, 230],\n",
       "        [101, 172, 232]],\n",
       "\n",
       "       ...,\n",
       "\n",
       "       [[165, 178, 177],\n",
       "        [159, 170, 167],\n",
       "        [167, 177, 170],\n",
       "        ...,\n",
       "        [ 75, 117, 154],\n",
       "        [ 75, 120, 157],\n",
       "        [ 72, 120, 158]],\n",
       "\n",
       "       [[158, 174, 172],\n",
       "        [173, 186, 182],\n",
       "        [182, 193, 188],\n",
       "        ...,\n",
       "        [ 76, 119, 154],\n",
       "        [ 75, 119, 153],\n",
       "        [ 77, 121, 154]],\n",
       "\n",
       "       [[161, 176, 174],\n",
       "        [162, 176, 172],\n",
       "        [160, 171, 169],\n",
       "        ...,\n",
       "        [ 98, 137, 167],\n",
       "        [129, 160, 183],\n",
       "        [162, 185, 202]]], dtype=uint8)"
      ]
     },
     "execution_count": 4,
     "metadata": {},
     "output_type": "execute_result"
    }
   ],
   "source": [
    "# print out a random image in x_train as numpy array\n",
    "x_train[15]"
   ]
  },
  {
   "cell_type": "code",
   "execution_count": null,
   "metadata": {
    "colab": {
     "base_uri": "https://localhost:8080/",
     "height": 283
    },
    "id": "cbcMvRhqvWAc",
    "outputId": "1c872799-363c-431c-e8a2-223bbef3767d"
   },
   "outputs": [
    {
     "data": {
      "text/plain": [
       "<matplotlib.image.AxesImage at 0x7fe5daa95890>"
      ]
     },
     "execution_count": 5,
     "metadata": {},
     "output_type": "execute_result"
    },
    {
     "data": {
      "image/png": "[encoded data removed]",
      "text/plain": [
       "<Figure size 432x288 with 1 Axes>"
      ]
     },
     "metadata": {
      "needs_background": "light"
     },
     "output_type": "display_data"
    }
   ],
   "source": [
    "# print it out as image\n",
    "\n",
    "import matplotlib.pyplot as plt\n",
    "\n",
    "\n",
    "plt.imshow(x_train[15])"
   ]
  },
  {
   "cell_type": "code",
   "execution_count": null,
   "metadata": {
    "id": "qMwUTdqp0rUJ"
   },
   "outputs": [],
   "source": [
    "# Convert y_train from 2D to 1D \n",
    "\n",
    "y_train = y_train.reshape(50000)\n"
   ]
  },
  {
   "cell_type": "code",
   "execution_count": null,
   "metadata": {
    "colab": {
     "base_uri": "https://localhost:8080/"
    },
    "id": "ojvUNZgG0xVe",
    "outputId": "f34eb2ee-63d3-4bfa-9f1f-82847e87a4f3"
   },
   "outputs": [
    {
     "data": {
      "text/plain": [
       "(50000,)"
      ]
     },
     "execution_count": 7,
     "metadata": {},
     "output_type": "execute_result"
    }
   ],
   "source": [
    "y_train.shape\n",
    "\n",
    "# expected output: (50000,)"
   ]
  },
  {
   "cell_type": "code",
   "execution_count": null,
   "metadata": {
    "id": "HcrolrznfOf2"
   },
   "outputs": [],
   "source": [
    "# Convert y_test from 2D to 1D \n",
    "\n",
    "y_test = y_test.reshape(10000)\n"
   ]
  },
  {
   "cell_type": "code",
   "execution_count": null,
   "metadata": {
    "colab": {
     "base_uri": "https://localhost:8080/"
    },
    "id": "iT3IYTNqfOf6",
    "outputId": "1fc46cd7-db98-415d-97af-19c4a15cca40"
   },
   "outputs": [
    {
     "data": {
      "text/plain": [
       "(10000,)"
      ]
     },
     "execution_count": 9,
     "metadata": {},
     "output_type": "execute_result"
    }
   ],
   "source": [
    "y_test.shape\n",
    "\n",
    "# expected output: (10000,)"
   ]
  },
  {
   "cell_type": "code",
   "execution_count": null,
   "metadata": {
    "id": "5-lWtPlHfOf9"
   },
   "outputs": [],
   "source": [
    "# Convert class vectors to one hot format\n",
    "\n",
    "y_train = tf.keras.utils.to_categorical(y_train, num_classes)\n",
    "y_test = tf.keras.utils.to_categorical(y_test, num_classes)"
   ]
  },
  {
   "cell_type": "code",
   "execution_count": null,
   "metadata": {
    "id": "DFzHf8QefOgC"
   },
   "outputs": [],
   "source": [
    "# Convert data from int to float and normalize it\n",
    "\n",
    "\n",
    "x_train = x_train.astype('float32')\n",
    "x_test = x_test.astype('float32')\n",
    "\n",
    "x_train /= 255\n",
    "x_test /= 255"
   ]
  },
  {
   "cell_type": "markdown",
   "metadata": {
    "id": "QXXjBVW1lDt1"
   },
   "source": [
    "###  Write your code in the cell below to create a CNN model which contains the following types of operations (layers):   \n",
    "\n",
    "- Conv2D\n",
    "- Activation\n",
    "- MaxPooling2D\n",
    "- Flatten\n",
    "- Dropout\n",
    "- Dense\n",
    "\n",
    "### (optional) You are also encouraged to create multiple models with different activiation functions, different numbers of neurons and layers for performance comparison."
   ]
  },
  {
   "cell_type": "code",
   "execution_count": null,
   "metadata": {
    "collapsed": true,
    "id": "grVEwQfQfOgE"
   },
   "outputs": [],
   "source": [
    "model = Sequential()\n",
    "\n",
    "model.add(Conv2D(32, kernel_size=(3, 3), strides=(1, 1),\n",
    "                    activation='relu', padding='same',\n",
    "                    input_shape=(32, 32, 3)))\n",
    "model.add(Activation('relu'))\n",
    "model.add(MaxPooling2D(pool_size=(2, 2)))\n",
    "model.add(Flatten())\n",
    "model.add(Dropout(0.5))\n",
    "model.add(Dense(1000, activation='relu'))\n",
    "model.add(Dense(10, activation='softmax'))\n",
    "\n",
    "\n",
    "\n",
    "\n",
    "\n",
    "\n",
    "\n",
    "\n",
    "\n",
    "\n",
    "\n",
    "\n",
    "\n",
    "\n",
    "\n",
    "\n",
    "\n",
    "\n",
    "\n"
   ]
  },
  {
   "cell_type": "code",
   "execution_count": null,
   "metadata": {
    "colab": {
     "base_uri": "https://localhost:8080/"
    },
    "id": "FekC4kgffOgG",
    "outputId": "8647a47b-2b57-466a-9f05-f1f4404e5c5c"
   },
   "outputs": [
    {
     "name": "stdout",
     "output_type": "stream",
     "text": [
      "Model: \"sequential\"\n",
      "_________________________________________________________________\n",
      "Layer (type)                 Output Shape              Param #   \n",
      "=================================================================\n",
      "conv2d (Conv2D)              (None, 32, 32, 32)        896       \n",
      "_________________________________________________________________\n",
      "activation (Activation)      (None, 32, 32, 32)        0         \n",
      "_________________________________________________________________\n",
      "max_pooling2d (MaxPooling2D) (None, 16, 16, 32)        0         \n",
      "_________________________________________________________________\n",
      "flatten (Flatten)            (None, 8192)              0         \n",
      "_________________________________________________________________\n",
      "dropout (Dropout)            (None, 8192)              0         \n",
      "_________________________________________________________________\n",
      "dense (Dense)                (None, 1000)              8193000   \n",
      "_________________________________________________________________\n",
      "dense_1 (Dense)              (None, 10)                10010     \n",
      "=================================================================\n",
      "Total params: 8,203,906\n",
      "Trainable params: 8,203,906\n",
      "Non-trainable params: 0\n",
      "_________________________________________________________________\n"
     ]
    }
   ],
   "source": [
    "# Print model summary\n",
    "\n",
    "model.summary()"
   ]
  },
  {
   "cell_type": "markdown",
   "metadata": {
    "id": "uVNwHr_AmKJi"
   },
   "source": [
    "### Write your code in the cell below for compile, earlystopping and fit. Notice that you should use earlystopping"
   ]
  },
  {
   "cell_type": "code",
   "execution_count": null,
   "metadata": {
    "colab": {
     "base_uri": "https://localhost:8080/"
    },
    "id": "QUxCqaaZfOgI",
    "outputId": "0c4cf968-98d5-4079-a4c4-4bd4f0b03784"
   },
   "outputs": [
    {
     "name": "stdout",
     "output_type": "stream",
     "text": [
      "Epoch 1/200\n",
      "391/391 - 18s - loss: 1.6786 - val_loss: 1.3437\n",
      "Epoch 2/200\n",
      "391/391 - 2s - loss: 1.2537 - val_loss: 1.1567\n",
      "Epoch 3/200\n",
      "391/391 - 2s - loss: 1.1356 - val_loss: 1.1017\n",
      "Epoch 4/200\n",
      "391/391 - 2s - loss: 1.0546 - val_loss: 1.0302\n",
      "Epoch 5/200\n",
      "391/391 - 2s - loss: 0.9852 - val_loss: 1.0018\n",
      "Epoch 6/200\n",
      "391/391 - 2s - loss: 0.9191 - val_loss: 0.9712\n",
      "Epoch 7/200\n",
      "391/391 - 2s - loss: 0.8613 - val_loss: 0.9665\n",
      "Epoch 8/200\n",
      "391/391 - 2s - loss: 0.8020 - val_loss: 0.9327\n",
      "Epoch 9/200\n",
      "391/391 - 2s - loss: 0.7536 - val_loss: 0.9258\n",
      "Epoch 10/200\n",
      "391/391 - 2s - loss: 0.7069 - val_loss: 0.9283\n",
      "Epoch 11/200\n",
      "391/391 - 2s - loss: 0.6620 - val_loss: 0.9177\n",
      "Epoch 12/200\n",
      "391/391 - 2s - loss: 0.6180 - val_loss: 0.9306\n",
      "Epoch 13/200\n",
      "391/391 - 2s - loss: 0.5729 - val_loss: 0.9259\n",
      "Epoch 14/200\n",
      "391/391 - 2s - loss: 0.5323 - val_loss: 0.9528\n",
      "Epoch 15/200\n",
      "391/391 - 2s - loss: 0.4946 - val_loss: 0.9366\n",
      "Epoch 16/200\n",
      "391/391 - 2s - loss: 0.4634 - val_loss: 0.9866\n",
      "Epoch 00016: early stopping\n"
     ]
    },
    {
     "data": {
      "text/plain": [
       "<keras.callbacks.History at 0x7fe5d8caba10>"
      ]
     },
     "execution_count": 14,
     "metadata": {},
     "output_type": "execute_result"
    }
   ],
   "source": [
    "from tensorflow.keras.optimizers import Adam\n",
    "from tensorflow.keras.callbacks import EarlyStopping, ModelCheckpoint\n",
    "\n",
    "monitor = EarlyStopping(monitor='val_loss', min_delta=1e-3, patience=5, verbose=1, mode='auto')\n",
    "\n",
    "model.compile(loss=\"categorical_crossentropy\", optimizer=\"adam\")\n",
    "\n",
    "model.fit(x_train, y_train, batch_size=128, epochs=200, verbose=2, callbacks=monitor, validation_data=(x_test, y_test))\n",
    "\n",
    "\n",
    "\n",
    "\n",
    "\n",
    "\n",
    "\n",
    "\n",
    "\n",
    "\n",
    "\n",
    "\n",
    "\n",
    "\n",
    "\n",
    "\n",
    "\n",
    "\n",
    "\n"
   ]
  },
  {
   "cell_type": "markdown",
   "metadata": {
    "id": "Xigd26XOoU-F"
   },
   "source": [
    "### Write your code in the cell below to print out the Precision, Recall,  F1 score, and classification_*report*\n",
    "\n",
    "### Include your findings in the project report. "
   ]
  },
  {
   "cell_type": "code",
   "execution_count": null,
   "metadata": {
    "colab": {
     "base_uri": "https://localhost:8080/"
    },
    "id": "2_92T0bsfOgQ",
    "outputId": "2e59c6fc-92a3-4abe-9590-30da00096497"
   },
   "outputs": [
    {
     "name": "stdout",
     "output_type": "stream",
     "text": [
      "Accuracy: 0.6838\n",
      "Averaged F1: 0.6856155052971215\n",
      "              precision    recall  f1-score   support\n",
      "\n",
      "           0       0.73      0.73      0.73      1000\n",
      "           1       0.84      0.75      0.79      1000\n",
      "           2       0.55      0.58      0.56      1000\n",
      "           3       0.47      0.56      0.51      1000\n",
      "           4       0.69      0.57      0.62      1000\n",
      "           5       0.60      0.56      0.58      1000\n",
      "           6       0.78      0.73      0.75      1000\n",
      "           7       0.68      0.79      0.73      1000\n",
      "           8       0.82      0.79      0.80      1000\n",
      "           9       0.77      0.77      0.77      1000\n",
      "\n",
      "    accuracy                           0.68     10000\n",
      "   macro avg       0.69      0.68      0.69     10000\n",
      "weighted avg       0.69      0.68      0.69     10000\n",
      "\n"
     ]
    }
   ],
   "source": [
    "from sklearn import metrics\n",
    "\n",
    "\n",
    "pred = model.predict(x_test)\n",
    "pred = np.argmax(pred, axis=1)\n",
    "\n",
    "y_true = np.argmax(y_test, axis=1)\n",
    "\n",
    "score = metrics.accuracy_score(y_true, pred)\n",
    "print('Accuracy: {}'.format(score))\n",
    "\n",
    "f1 = metrics.f1_score(y_true, pred, average='weighted')\n",
    "print('Averaged F1: {}'.format(f1))\n",
    "\n",
    "print(metrics.classification_report(y_true, pred))\n",
    "\n",
    "\n"
   ]
  },
  {
   "cell_type": "markdown",
   "metadata": {
    "id": "103RRPUvtOie"
   },
   "source": [
    "### Write your code in the cell below to show 3-5 images in the test set as well as their true labels and their labels predicted by your model.\n",
    "\n",
    "### Include your findings in the project report."
   ]
  },
  {
   "cell_type": "code",
   "execution_count": null,
   "metadata": {
    "colab": {
     "base_uri": "https://localhost:8080/",
     "height": 934
    },
    "id": "fFryw76VtOie",
    "outputId": "8c1cd5cb-e4df-428c-dffc-b63a6dd8ee80"
   },
   "outputs": [
    {
     "name": "stdout",
     "output_type": "stream",
     "text": [
      "[  92 7194 5599]\n"
     ]
    },
    {
     "data": {
      "image/png": "[encoded data removed]",
      "text/plain": [
       "<Figure size 432x288 with 1 Axes>"
      ]
     },
     "metadata": {
      "needs_background": "light"
     },
     "output_type": "display_data"
    },
    {
     "name": "stdout",
     "output_type": "stream",
     "text": [
      "Model predicte: ship\n",
      "Ture label: ship\n",
      "\n"
     ]
    },
    {
     "data": {
      "image/png": "[encoded data removed]",
      "text/plain": [
       "<Figure size 432x288 with 1 Axes>"
      ]
     },
     "metadata": {
      "needs_background": "light"
     },
     "output_type": "display_data"
    },
    {
     "name": "stdout",
     "output_type": "stream",
     "text": [
      "Model predicte: ship\n",
      "Ture label: ship\n",
      "\n"
     ]
    },
    {
     "data": {
      "image/png": "[encoded data removed]",
      "text/plain": [
       "<Figure size 432x288 with 1 Axes>"
      ]
     },
     "metadata": {
      "needs_background": "light"
     },
     "output_type": "display_data"
    },
    {
     "name": "stdout",
     "output_type": "stream",
     "text": [
      "Model predicte: bird\n",
      "Ture label: bird\n",
      "\n"
     ]
    }
   ],
   "source": [
    "labels_name = [\"airplane\", \"automobile\", \"bird\", \"cat\", \"deer\", \"dog\", \"frog\", \"horse\", \"ship\", \"truck\"]\n",
    "\n",
    "#generate 3 random number into a array\n",
    "randNum = np.random.randint(len(pred), size=3)\n",
    "print(randNum)\n",
    "\n",
    "for x in randNum:\n",
    "  plt.imshow(x_test[x])\n",
    "  plt.show()\n",
    "  print(\"Model predicte: {}\".format(labels_name[pred[x]]))\n",
    "  for i in range(len(y_test[x])):\n",
    "    if y_test[x][i] == 1:\n",
    "      print(\"Ture label: {}\".format(labels_name[i]))\n",
    "      print()\n",
    "      \n",
    "\n",
    "\n"
   ]
  },
  {
   "cell_type": "markdown",
   "metadata": {
    "id": "MgBnw9dRfOgS"
   },
   "source": [
    "\n",
    "\n",
    "## Part II:   CNN model with Transfer Learning"
   ]
  },
  {
   "cell_type": "code",
   "execution_count": null,
   "metadata": {
    "colab": {
     "base_uri": "https://localhost:8080/"
    },
    "id": "H9rvtqrsfOgT",
    "outputId": "58c22774-69de-49bd-e092-1f20e19b147b"
   },
   "outputs": [
    {
     "name": "stdout",
     "output_type": "stream",
     "text": [
      "x_train shape: (50000, 32, 32, 3)\n",
      "y_train shape: (50000, 1)\n",
      "x_test shape: (10000, 32, 32, 3)\n",
      "y_test shape: (10000, 1)\n",
      "50000 train samples\n",
      "10000 test samples\n"
     ]
    }
   ],
   "source": [
    "# We load data again.   The data split between train and test sets:\n",
    "\n",
    "(x_train, y_train), (x_test, y_test) = cifar10.load_data()\n",
    "\n",
    "\n",
    "\n",
    "print('x_train shape:', x_train.shape)\n",
    "print('y_train shape:', y_train.shape)\n",
    "\n",
    "print('x_test shape:', x_test.shape)\n",
    "print('y_test shape:', y_test.shape)\n",
    "\n",
    "\n",
    "print(x_train.shape[0], 'train samples')\n",
    "print(x_test.shape[0], 'test samples')"
   ]
  },
  {
   "cell_type": "markdown",
   "metadata": {
    "id": "UGSxqVVypDiX"
   },
   "source": [
    "### Here we would like to use one pre-trained model called VGG16.   For more details on VGG16, please go to https://neurohive.io/en/popular-networks/vgg16/\n",
    "\n",
    "\n",
    "### VGG16 supports down to 48x48 images as an input. However, the resolution of our images is too low, which is (32, 32) so we need to increase the resolution.   This is called upsampling. \n",
    "\n",
    "\n",
    "\n",
    "### Find a way to do upsampling for each image to increase its resolution from 32x32 to 64x64. One option is to use the function resize(), which is provided by scikit-image library (https://scikit-image.org/)\n",
    "\n",
    "\n",
    "### Hints: \n",
    "\n",
    "#### (1) If you use resize() in scikit-image, that function also normalizes the input image so you may not want to normalize twice.\n",
    "\n",
    "#### Learn from the examples here:  https://scikit-image.org/docs/stable/auto_examples/transform/plot_rescale.html\n",
    "\n",
    "#### (2) Apply upsampling to x_train and x_test seperately. "
   ]
  },
  {
   "cell_type": "code",
   "execution_count": null,
   "metadata": {
    "colab": {
     "base_uri": "https://localhost:8080/"
    },
    "id": "XWwBKsh-fOgX",
    "outputId": "1e4294c5-fbf1-4d26-affc-d473f4f9842e"
   },
   "outputs": [
    {
     "name": "stdout",
     "output_type": "stream",
     "text": [
      "Before resize x_train shape: (50000, 32, 32, 3)\n",
      "After resize x_train shape: (50000, 64, 64, 3)\n"
     ]
    }
   ],
   "source": [
    "import skimage.transform\n",
    "from skimage.transform import resize\n",
    "\n",
    "print('Before resize x_train shape:', x_train.shape)\n",
    "new_x_train = []\n",
    "\n",
    "for i in range(len(x_train)):\n",
    "  tmp = resize(x_train[i], (64, 64))\n",
    "  new_x_train.append(tmp)\n",
    "\n",
    "x_train = np.array(new_x_train)\n",
    "print(\"After resize x_train shape: {}\".format(x_train.shape))\n",
    "\n",
    "del new_x_train   # free RAM\n",
    " \n",
    "    \n",
    "    \n",
    "\n",
    "# this process may take about a few minutes ...."
   ]
  },
  {
   "cell_type": "code",
   "execution_count": null,
   "metadata": {
    "colab": {
     "base_uri": "https://localhost:8080/"
    },
    "id": "0s0-oaKDfOgf",
    "outputId": "78fa5d49-4287-4407-a135-c0282be094d6"
   },
   "outputs": [
    {
     "name": "stdout",
     "output_type": "stream",
     "text": [
      "Before resize x_test shape: (10000, 32, 32, 3)\n",
      "After resize x_test shape: (10000, 64, 64, 3)\n"
     ]
    }
   ],
   "source": [
    "print('Before resize x_test shape:', x_test.shape)\n",
    "\n",
    "new_x_test = []\n",
    "\n",
    "for i in range(len(x_test)):\n",
    "  tmp = resize(x_test[i], (64, 64))\n",
    "  new_x_test.append(tmp)\n",
    "\n",
    "x_test = np.array(new_x_test)\n",
    "print(\"After resize x_test shape: {}\".format(x_test.shape))\n",
    "\n",
    "del new_x_test  # free RAM\n",
    "del tmp\n",
    "\n",
    "\n",
    "\n",
    "# this process may take about a few minutes ...."
   ]
  },
  {
   "cell_type": "markdown",
   "metadata": {
    "id": "pPjFo2oyqlGO"
   },
   "source": [
    "### Write your code in the cell below to do the following:\n",
    "\n",
    "- First convert y_train and y_test from 2D to 1D by using reshape() function \n",
    "- Next apply one-hot encoding to y_train and y_test by using tf.keras.utils.to_categorical() function"
   ]
  },
  {
   "cell_type": "code",
   "execution_count": null,
   "metadata": {
    "id": "fQuVaf2pkRdr"
   },
   "outputs": [],
   "source": [
    "y_train = y_train.reshape(-1)\n",
    "y_test = y_test.reshape(-1)\n",
    "\n",
    "y_train = tf.keras.utils.to_categorical(y_train, num_classes)\n",
    "y_test = tf.keras.utils.to_categorical(y_test, num_classes)\n"
   ]
  },
  {
   "cell_type": "code",
   "execution_count": null,
   "metadata": {
    "colab": {
     "base_uri": "https://localhost:8080/"
    },
    "id": "w_pLuCNjqvbf",
    "outputId": "b58f58dd-4c1c-46c6-93c9-97a3f5f29f11"
   },
   "outputs": [
    {
     "name": "stdout",
     "output_type": "stream",
     "text": [
      "(50000, 10)\n",
      "(10000, 10)\n"
     ]
    }
   ],
   "source": [
    "# double check shape\n",
    "\n",
    "print(y_train.shape)\n",
    "print(y_test.shape)\n",
    "\n",
    "\n",
    "# expected output:  (50000, 10)\n",
    "# expected output:  (10000, 10)"
   ]
  },
  {
   "cell_type": "markdown",
   "metadata": {
    "id": "x-bzRNdjfOgy"
   },
   "source": [
    "###  Load the pre-trained VGG16 model.  Write your code in the cell below to add each layer in VGG16 (excluding the top layers) to your new model.  "
   ]
  },
  {
   "cell_type": "code",
   "execution_count": null,
   "metadata": {
    "colab": {
     "base_uri": "https://localhost:8080/"
    },
    "id": "4HLwE00VfOgz",
    "outputId": "4a65b860-8913-4f69-cc3f-f1d76f194c98"
   },
   "outputs": [
    {
     "name": "stdout",
     "output_type": "stream",
     "text": [
      "Model: \"sequential_3\"\n",
      "_________________________________________________________________\n",
      "Layer (type)                 Output Shape              Param #   \n",
      "=================================================================\n",
      "block1_conv1 (Conv2D)        (None, 64, 64, 64)        1792      \n",
      "_________________________________________________________________\n",
      "block1_conv2 (Conv2D)        (None, 64, 64, 64)        36928     \n",
      "_________________________________________________________________\n",
      "block1_pool (MaxPooling2D)   (None, 32, 32, 64)        0         \n",
      "_________________________________________________________________\n",
      "block2_conv1 (Conv2D)        (None, 32, 32, 128)       73856     \n",
      "_________________________________________________________________\n",
      "block2_conv2 (Conv2D)        (None, 32, 32, 128)       147584    \n",
      "_________________________________________________________________\n",
      "block2_pool (MaxPooling2D)   (None, 16, 16, 128)       0         \n",
      "_________________________________________________________________\n",
      "block3_conv1 (Conv2D)        (None, 16, 16, 256)       295168    \n",
      "_________________________________________________________________\n",
      "block3_conv2 (Conv2D)        (None, 16, 16, 256)       590080    \n",
      "_________________________________________________________________\n",
      "block3_conv3 (Conv2D)        (None, 16, 16, 256)       590080    \n",
      "_________________________________________________________________\n",
      "block3_pool (MaxPooling2D)   (None, 8, 8, 256)         0         \n",
      "_________________________________________________________________\n",
      "block4_conv1 (Conv2D)        (None, 8, 8, 512)         1180160   \n",
      "_________________________________________________________________\n",
      "block4_conv2 (Conv2D)        (None, 8, 8, 512)         2359808   \n",
      "_________________________________________________________________\n",
      "block4_conv3 (Conv2D)        (None, 8, 8, 512)         2359808   \n",
      "_________________________________________________________________\n",
      "block4_pool (MaxPooling2D)   (None, 4, 4, 512)         0         \n",
      "_________________________________________________________________\n",
      "block5_conv1 (Conv2D)        (None, 4, 4, 512)         2359808   \n",
      "_________________________________________________________________\n",
      "block5_conv2 (Conv2D)        (None, 4, 4, 512)         2359808   \n",
      "_________________________________________________________________\n",
      "block5_conv3 (Conv2D)        (None, 4, 4, 512)         2359808   \n",
      "_________________________________________________________________\n",
      "block5_pool (MaxPooling2D)   (None, 2, 2, 512)         0         \n",
      "=================================================================\n",
      "Total params: 14,714,688\n",
      "Trainable params: 14,714,688\n",
      "Non-trainable params: 0\n",
      "_________________________________________________________________\n"
     ]
    }
   ],
   "source": [
    "from tensorflow.keras.applications.vgg16 import VGG16\n",
    "\n",
    "vgg_model = VGG16(weights='imagenet', include_top=False, input_shape=(64, 64, 3))   #  first hidden layer\n",
    "\n",
    "\n",
    "model = Sequential()\n",
    "\n",
    "  \n",
    "# write your code here\n",
    "\n",
    "for layer in vgg_model.layers:\n",
    "  model.add(layer)\n",
    "\n",
    "\n",
    "\n",
    "# print out the model summary\n",
    "model.summary()\n"
   ]
  },
  {
   "cell_type": "markdown",
   "metadata": {
    "id": "4ki8D32hrl3E"
   },
   "source": [
    "### Write your code in the cell below to freeze the weights in each layer in the new model"
   ]
  },
  {
   "cell_type": "code",
   "execution_count": null,
   "metadata": {
    "id": "X_oqboGwfOg1"
   },
   "outputs": [],
   "source": [
    "\n",
    "for layer in model.layers:\n",
    "  layer.trainable = False\n",
    "\n",
    "\n"
   ]
  },
  {
   "cell_type": "markdown",
   "metadata": {
    "id": "YArrSsS4rt_t"
   },
   "source": [
    "###  Write your code in the cell below to add some \"Dense\" layers as top layers.\n",
    "\n",
    "- Donot forget the output layer\n",
    "- Choose the right activation fucntion for the output layer"
   ]
  },
  {
   "cell_type": "code",
   "execution_count": null,
   "metadata": {
    "id": "Fphbz0FhfOg3"
   },
   "outputs": [],
   "source": [
    "model.add(Flatten())\n",
    "\n",
    "\n",
    "# Add some \"Dense\" layers here, including output layer\n",
    "\n",
    "model.add(Dense(50, activation='relu'))\n",
    "model.add(Dense(10, activation='softmax'))\n",
    "\n",
    "\n",
    "\n",
    "\n",
    "\n"
   ]
  },
  {
   "cell_type": "markdown",
   "metadata": {
    "id": "sDOG92fcr1m8"
   },
   "source": [
    "###  Write your code below for compile and fit. \n",
    "\n",
    "### Train your new model. \n",
    "\n",
    "### Notice that you should use earlystopping."
   ]
  },
  {
   "cell_type": "code",
   "execution_count": null,
   "metadata": {
    "colab": {
     "base_uri": "https://localhost:8080/"
    },
    "id": "xWrWTc2JfOg6",
    "outputId": "3d7be186-b70f-47ef-a183-b9dd3e27e554",
    "scrolled": false
   },
   "outputs": [
    {
     "name": "stdout",
     "output_type": "stream",
     "text": [
      "Epoch 1/225\n",
      "371/371 - 12s - loss: 0.5335 - val_loss: 0.9813\n",
      "Epoch 2/225\n",
      "371/371 - 11s - loss: 0.5220 - val_loss: 0.9913\n",
      "Epoch 3/225\n",
      "371/371 - 11s - loss: 0.5110 - val_loss: 1.0040\n",
      "Epoch 4/225\n",
      "371/371 - 11s - loss: 0.5057 - val_loss: 1.0001\n",
      "Epoch 5/225\n",
      "371/371 - 11s - loss: 0.4993 - val_loss: 1.0024\n",
      "Epoch 6/225\n",
      "371/371 - 11s - loss: 0.4911 - val_loss: 1.0271\n",
      "Epoch 00006: early stopping\n"
     ]
    },
    {
     "data": {
      "text/plain": [
       "<keras.callbacks.History at 0x7fe58e93f610>"
      ]
     },
     "execution_count": 37,
     "metadata": {},
     "output_type": "execute_result"
    }
   ],
   "source": [
    "from tensorflow.keras.optimizers import Adam\n",
    "from tensorflow.keras.callbacks import EarlyStopping, ModelCheckpoint\n",
    "\n",
    "monitor = EarlyStopping(monitor='val_loss', min_delta=1e-3, patience=5, verbose=1, mode='auto')\n",
    "\n",
    "model.compile(loss=\"categorical_crossentropy\", optimizer=\"adam\")\n",
    "\n",
    "model.fit(x_train, y_train, batch_size=135, epochs=225, verbose=2, callbacks=monitor, validation_data=(x_test, y_test))\n",
    "\n",
    "\n",
    "\n",
    "\n",
    "\n",
    "\n",
    "\n",
    "\n",
    "\n",
    "\n",
    "# since we use GPU, the training time for each epoch for the transferred model is about 60 seconds.  \n",
    "# Let it run for a few epochs. "
   ]
  },
  {
   "cell_type": "markdown",
   "metadata": {
    "id": "ps2CZ8Xwrz_a"
   },
   "source": [
    "### Write your code below to print out the Precision, Recall, F1 score, and classification_report\n",
    "\n",
    "### Include your findings in the project report."
   ]
  },
  {
   "cell_type": "code",
   "execution_count": null,
   "metadata": {
    "colab": {
     "base_uri": "https://localhost:8080/"
    },
    "id": "rMRuLfS3fOg8",
    "outputId": "8b96fda7-889d-4257-eba1-244f11132266",
    "scrolled": true
   },
   "outputs": [
    {
     "name": "stdout",
     "output_type": "stream",
     "text": [
      "Accuracy: 0.6873\n",
      "Averaged F1: 0.688547789385149\n",
      "              precision    recall  f1-score   support\n",
      "\n",
      "           0       0.78      0.73      0.75      1000\n",
      "           1       0.80      0.79      0.79      1000\n",
      "           2       0.59      0.65      0.62      1000\n",
      "           3       0.48      0.53      0.50      1000\n",
      "           4       0.59      0.69      0.64      1000\n",
      "           5       0.62      0.50      0.56      1000\n",
      "           6       0.70      0.71      0.71      1000\n",
      "           7       0.77      0.71      0.74      1000\n",
      "           8       0.82      0.79      0.80      1000\n",
      "           9       0.77      0.77      0.77      1000\n",
      "\n",
      "    accuracy                           0.69     10000\n",
      "   macro avg       0.69      0.69      0.69     10000\n",
      "weighted avg       0.69      0.69      0.69     10000\n",
      "\n"
     ]
    }
   ],
   "source": [
    "from sklearn import metrics\n",
    "\n",
    "\n",
    "pred = model.predict(x_test)\n",
    "pred = np.argmax(pred, axis=1)\n",
    "\n",
    "y_true = np.argmax(y_test, axis=1)\n",
    "\n",
    "score = metrics.accuracy_score(y_true, pred)\n",
    "print('Accuracy: {}'.format(score))\n",
    "\n",
    "f1 = metrics.f1_score(y_true, pred, average='weighted')\n",
    "print('Averaged F1: {}'.format(f1))\n",
    "\n",
    "\n",
    "print(metrics.classification_report(y_true, pred))\n"
   ]
  },
  {
   "cell_type": "markdown",
   "metadata": {
    "id": "PkatwrTod_ii"
   },
   "source": [
    "### Write your code in the cell below to show 3-5 images in the test set as well as their true labels and their labels predicted by your model with transfer learning. \n",
    "\n",
    "### Include your findings in the project report."
   ]
  },
  {
   "cell_type": "code",
   "execution_count": null,
   "metadata": {
    "colab": {
     "base_uri": "https://localhost:8080/",
     "height": 940
    },
    "id": "PoRepUWbd_ii",
    "outputId": "f3658b49-4e0c-4108-ca82-32c0cea3f50f"
   },
   "outputs": [
    {
     "name": "stdout",
     "output_type": "stream",
     "text": [
      "[3145 1540  314]\n"
     ]
    },
    {
     "data": {
      "image/png": "[encoded data removed]",
      "text/plain": [
       "<Figure size 432x288 with 1 Axes>"
      ]
     },
     "metadata": {
      "needs_background": "light"
     },
     "output_type": "display_data"
    },
    {
     "name": "stdout",
     "output_type": "stream",
     "text": [
      "Model predicte: truck\n",
      "Ture label: truck\n",
      "\n"
     ]
    },
    {
     "data": {
      "image/png": "[encoded data removed]",
      "text/plain": [
       "<Figure size 432x288 with 1 Axes>"
      ]
     },
     "metadata": {
      "needs_background": "light"
     },
     "output_type": "display_data"
    },
    {
     "name": "stdout",
     "output_type": "stream",
     "text": [
      "Model predicte: ship\n",
      "Ture label: ship\n",
      "\n"
     ]
    },
    {
     "data": {
      "image/png": "[encoded data removed]",
      "text/plain": [
       "<Figure size 432x288 with 1 Axes>"
      ]
     },
     "metadata": {
      "needs_background": "light"
     },
     "output_type": "display_data"
    },
    {
     "name": "stdout",
     "output_type": "stream",
     "text": [
      "Model predicte: deer\n",
      "Ture label: deer\n",
      "\n"
     ]
    }
   ],
   "source": [
    "labels_name = [\"airplane\", \"automobile\", \"bird\", \"cat\", \"deer\", \"dog\", \"frog\", \"horse\", \"ship\", \"truck\"]\n",
    "\n",
    "#generate 3 random number into a array\n",
    "randNum = np.random.randint(len(pred), size=3)\n",
    "print(randNum)\n",
    "\n",
    "for x in randNum:\n",
    "  plt.imshow(x_test[x])\n",
    "  plt.show()\n",
    "  print(\"Model predicte: {}\".format(labels_name[pred[x]]))\n",
    "  for i in range(len(y_test[x])):\n",
    "    if y_test[x][i] == 1:\n",
    "      print(\"Ture label: {}\".format(labels_name[i]))\n",
    "      print()\n",
    "\n"
   ]
  }
 ],
 "metadata": {
  "accelerator": "GPU",
  "anaconda-cloud": {},
  "colab": {
   "collapsed_sections": [],
   "machine_shape": "hm",
   "name": "CSC180_Transfer_learning_project_on_cifar_10_(canvas_version).ipynb",
   "provenance": []
  },
  "kernelspec": {
   "display_name": "Python 3",
   "language": "python",
   "name": "python3"
  },
  "language_info": {
   "codemirror_mode": {
    "name": "ipython",
    "version": 3
   },
   "file_extension": ".py",
   "mimetype": "text/x-python",
   "name": "python",
   "nbconvert_exporter": "python",
   "pygments_lexer": "ipython3",
   "version": "3.8.8"
  }
 },
 "nbformat": 4,
 "nbformat_minor": 1
}
